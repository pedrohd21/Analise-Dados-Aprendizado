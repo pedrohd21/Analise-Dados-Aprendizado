{
 "cells": [
  {
   "cell_type": "code",
   "execution_count": null,
   "metadata": {},
   "outputs": [],
   "source": [
    "# importar usar o sql3\n",
    "import sqlite3\n",
    "\n",
    "# 1. Conectar ao banco de dados\n",
    "conn = sqlite3.connect('exemplo.db')\n",
    "cursor = conn.cursor()\n",
    "\n",
    "# 2. Criar uma tabela\n",
    "cursor.execute('''\n",
    "CREATE TABLE IF NOT EXISTS Persons (\n",
    "    PersonID INT PRIMARY KEY,\n",
    "    LastName TEXT NOT NULL,\n",
    "    FirstName TEXT NOT NULL,\n",
    "    City TEXT\n",
    ");\n",
    "''')\n",
    "\n",
    "# 3. Inserir dados\n",
    "cursor.execute('''\n",
    "INSERT INTO Persons (PersonID, LastName, FirstName, City)\n",
    "VALUES (1, 'Doe', 'John', 'New York');\n",
    "''')\n",
    "\n",
    "# 4. Salvar as mudanças\n",
    "conn.commit()\n",
    "\n",
    "# 5. Consultar dados\n",
    "cursor.execute('SELECT * FROM Persons')\n",
    "resultados = cursor.fetchall()\n",
    "\n",
    "# Exibir resultados\n",
    "for linha in resultados:\n",
    "    print(linha)\n",
    "\n",
    "# 6. Fechar a conexão\n",
    "conn.close()"
   ]
  },
  {
   "cell_type": "code",
   "execution_count": null,
   "metadata": {},
   "outputs": [],
   "source": [
    "import sqlite3"
   ]
  },
  {
   "cell_type": "code",
   "execution_count": null,
   "metadata": {},
   "outputs": [],
   "source": [
    "conn = sqlite3.connect('meu_banco.db')"
   ]
  },
  {
   "cell_type": "code",
   "execution_count": null,
   "metadata": {},
   "outputs": [],
   "source": [
    "# Criar tabela\n",
    "conn.execute('''\n",
    "CREATE TABLE IF NOT EXISTS Persons (\n",
    "    PersonID INT PRIMARY KEY,\n",
    "    LastName TEXT NOT NULL,\n",
    "    FirstName TEXT NOT NULL,\n",
    "    City TEXT\n",
    ");\n",
    "''')"
   ]
  },
  {
   "cell_type": "code",
   "execution_count": null,
   "metadata": {},
   "outputs": [],
   "source": [
    "#  Inserir valores\n",
    "conn.execute('''\n",
    "INSERT INTO Persons (PersonID, LastName, FirstName, City)\n",
    "VALUES (1, 'Doe', 'John', 'New York');\n",
    "''')\n",
    "conn.commit()"
   ]
  },
  {
   "cell_type": "code",
   "execution_count": null,
   "metadata": {},
   "outputs": [],
   "source": [
    "# MOstrar valores\n",
    "cursor = conn.execute('SELECT * FROM Persons')\n",
    "resultados = cursor.fetchall()\n",
    "\n",
    "for linha in resultados:\n",
    "    print(linha)"
   ]
  },
  {
   "cell_type": "code",
   "execution_count": null,
   "metadata": {},
   "outputs": [],
   "source": [
    "# Atualizar dados\n",
    "cursor.execute('''\n",
    "UPDATE Persons\n",
    "SET City = 'Miami'\n",
    "WHERE PersonID = 1;\n",
    "''')\n",
    "\n",
    "# Salvar (commit) as mudanças\n",
    "conn.commit()\n"
   ]
  },
  {
   "cell_type": "code",
   "execution_count": null,
   "metadata": {},
   "outputs": [],
   "source": [
    "# Excluir dados\n",
    "\n",
    "cursor.execute('''\n",
    "DELETE FROM Persons\n",
    "WHERE PersonID = 3;\n",
    "''')\n",
    "\n",
    "# Salvar (commit) as mudanças\n",
    "conn.commit()\n"
   ]
  },
  {
   "cell_type": "code",
   "execution_count": null,
   "metadata": {},
   "outputs": [],
   "source": [
    "# Filtrar resultados\n",
    "cursor.execute('''\n",
    "SELECT * FROM Persons\n",
    "WHERE City = 'New York';\n",
    "''')\n",
    "\n",
    "resultados = cursor.fetchall()\n",
    "\n",
    "# Exibir resultados\n",
    "for linha in resultados:\n",
    "    print(linha)"
   ]
  },
  {
   "cell_type": "code",
   "execution_count": null,
   "metadata": {},
   "outputs": [],
   "source": [
    "# Contar registros\n",
    "cursor.execute('SELECT COUNT(*) FROM Persons')\n",
    "resultado = cursor.fetchone()\n",
    "\n",
    "# Exibir resultado\n",
    "print(f'Número de registros: {resultado[0]}')\n"
   ]
  },
  {
   "cell_type": "code",
   "execution_count": null,
   "metadata": {},
   "outputs": [],
   "source": [
    "# Selecionar valores únicos\n",
    "cursor.execute('SELECT DISTINCT City FROM Persons')\n",
    "resultados = cursor.fetchall()\n",
    "\n",
    "# Exibir resultados\n",
    "for linha in resultados:\n",
    "    print(linha[0])\n"
   ]
  },
  {
   "cell_type": "code",
   "execution_count": null,
   "metadata": {},
   "outputs": [],
   "source": [
    "# Limitar resultados\n",
    "cursor.execute('SELECT * FROM Persons LIMIT 2')\n",
    "resultados = cursor.fetchall()\n",
    "\n",
    "# Exibir resultados\n",
    "for linha in resultados:\n",
    "    print(linha)"
   ]
  }
 ],
 "metadata": {
  "kernelspec": {
   "display_name": "env",
   "language": "python",
   "name": "python3"
  },
  "language_info": {
   "codemirror_mode": {
    "name": "ipython",
    "version": 3
   },
   "file_extension": ".py",
   "mimetype": "text/x-python",
   "name": "python",
   "nbconvert_exporter": "python",
   "pygments_lexer": "ipython3",
   "version": "3.12.9"
  }
 },
 "nbformat": 4,
 "nbformat_minor": 2
}
