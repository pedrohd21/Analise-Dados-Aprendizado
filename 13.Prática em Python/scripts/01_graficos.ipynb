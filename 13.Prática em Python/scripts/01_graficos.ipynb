{
 "cells": [
  {
   "cell_type": "code",
   "execution_count": null,
   "metadata": {
    "vscode": {
     "languageId": "plaintext"
    }
   },
   "outputs": [],
   "source": [
    "✅ Histograma – Para visualizar a distribuição dos dados.\n",
    "✅ Gráfico de dispersão (scatter plot) – Para analisar relação entre duas variáveis.\n",
    "✅ Boxplot – Para detectar outliers e entender a distribuição dos dados.\n",
    "✅ Barras e setores (gráfico de pizza) – Para comparar categorias "
   ]
  },
  {
   "cell_type": "code",
   "execution_count": null,
   "metadata": {
    "vscode": {
     "languageId": "plaintext"
    }
   },
   "outputs": [],
   "source": [
    "✅ Histograma\n",
    "Objetivo: Visualizar a distribuição de uma variável numérica. Ele mostra como os dados estão distribuídos em intervalos ou \"bins\".\n",
    "\n",
    "Quando usar:\n",
    "\n",
    "Para entender a forma dos dados (normal, assimétrica, com picos, etc.).\n",
    "Quando você quer ver se a variável segue uma distribuição normal ou tem outliers.\n",
    "Útil para identificar moda (valor mais frequente) e assimetria.\n",
    "Exemplo: Se você tiver dados de salários, um histograma te ajuda a ver se a maioria das pessoas tem um salário baixo, médio ou alto, e como isso se distribui.\n",
    "\n",
    "✅ Gráfico de Dispersão (Scatter Plot)\n",
    "Objetivo: Analisar a relação entre duas variáveis numéricas. Cada ponto no gráfico representa uma combinação dos valores de duas variáveis.\n",
    "\n",
    "Quando usar:\n",
    "\n",
    "Quando você deseja verificar a correlação entre duas variáveis.\n",
    "Útil para detectar padrões de linearidade (ou seja, se uma variável tende a aumentar quando a outra aumenta, ou se há uma relação inversa).\n",
    "Ideal para observar outliers ou clusters (agregados de pontos).\n",
    "Exemplo: Se você estiver analisando dados de idade e salário, um gráfico de dispersão pode te mostrar se, por exemplo, pessoas mais velhas tendem a ter um salário mais alto.\n",
    "\n",
    "✅ Boxplot\n",
    "Objetivo: Mostrar a distribuição de uma variável numérica através de seus quartis (divisões dos dados em 25%, 50%, 75%) e detectar outliers (valores fora da caixa).\n",
    "\n",
    "Quando usar:\n",
    "\n",
    "Para visualizar rapidamente a distribuição dos dados e identificar outliers.\n",
    "Quando você quer comparar a distribuição de uma variável entre diferentes categorias (exemplo: comparar a altura média de homens e mulheres).\n",
    "Útil quando você tem uma grande quantidade de dados e quer uma visão rápida da tendência central, variabilidade e outliers.\n",
    "Exemplo: Se você tiver dados de notas de alunos e quiser saber se há notas extremamente baixas ou altas, um boxplot vai mostrar esses outliers de forma clara.\n",
    "\n",
    "✅ Gráfico de Barras / Setores (Pizza)\n",
    "Objetivo: Comparar categorias diferentes entre si. O gráfico de barras mostra o valor de cada categoria, enquanto o gráfico de pizza divide o total em \"fatias\" proporcionais a cada categoria.\n",
    "\n",
    "Quando usar:\n",
    "\n",
    "Gráfico de barras é o mais comum, pois facilita a comparação entre categorias. Use quando a comparação for entre quantidades de categorias (ex: quantas vendas em cada região).\n",
    "Gráfico de pizza deve ser usado com cautela, pois pode ser difícil de interpretar quando há muitas categorias. Ele é mais útil para mostrar proporções (por exemplo, participação de mercado de diferentes empresas).\n",
    "Exemplo:\n",
    "\n",
    "Gráfico de barras: Se você tem os dados de vendas por região, pode usar barras para comparar o total de vendas em cada região.\n",
    "Gráfico de pizza: Se você tem dados de participação de mercado de empresas, o gráfico de pizza pode mostrar qual empresa tem a maior fatia do mercado.\n",
    "Resumo:\n",
    "Histograma para entender distribuições de dados contínuos.\n",
    "Dispersão para ver relações entre duas variáveis.\n",
    "Boxplot para visualizar a distribuição, outliers e comparar diferentes grupos.\n",
    "Barras/pizza para comparar categorias (barras é preferível)."
   ]
  }
 ],
 "metadata": {
  "language_info": {
   "name": "python"
  }
 },
 "nbformat": 4,
 "nbformat_minor": 2
}
