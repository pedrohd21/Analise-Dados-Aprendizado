{
 "cells": [
  {
   "cell_type": "markdown",
   "metadata": {
    "id": "sYSUpqL-9WKY"
   },
   "source": [
    "# Formação Cientista de Dados\n",
    "\n",
    "Pandas\n",
    "\n",
    "Prof. Fernando Amaral"
   ]
  },
  {
   "cell_type": "code",
   "execution_count": null,
   "metadata": {
    "id": "hbrk7fkw9Yzj"
   },
   "outputs": [],
   "source": [
    "import pandas as pd"
   ]
  },
  {
   "cell_type": "code",
   "execution_count": null,
   "metadata": {
    "id": "XbpyywLT9Y26"
   },
   "outputs": [],
   "source": [
    "#carrega arquivo para dataframe Pandas\n",
    "dados = pd.read_csv(\"Credit.csv\") \n",
    "#formato\n",
    "dados.shape"
   ]
  },
  {
   "cell_type": "code",
   "execution_count": null,
   "metadata": {
    "id": "xIILAe8iAwaG"
   },
   "outputs": [],
   "source": [
    "#resumo estatístico de colunas numéricas\n",
    "dados.describe()"
   ]
  },
  {
   "cell_type": "code",
   "execution_count": null,
   "metadata": {
    "id": "l1jeBCwxA8PW"
   },
   "outputs": [],
   "source": [
    "#primeiros registros\n",
    "dados.head()"
   ]
  },
  {
   "cell_type": "code",
   "execution_count": null,
   "metadata": {
    "id": "YwBTbeE_B23c"
   },
   "outputs": [],
   "source": [
    "#últimos registros, com parâmetros\n",
    "dados.tail(2)"
   ]
  },
  {
   "cell_type": "code",
   "execution_count": null,
   "metadata": {
    "id": "p97-dKeb9Y5i"
   },
   "outputs": [],
   "source": [
    "#filtras por nome da coluna\n",
    "dados[[\"duration\"]] "
   ]
  },
  {
   "cell_type": "code",
   "execution_count": null,
   "metadata": {
    "id": "V1X4VldnCXdV"
   },
   "outputs": [],
   "source": [
    "#filtrar linhas por indice\n",
    "dados.loc[1:3]"
   ]
  },
  {
   "cell_type": "code",
   "execution_count": null,
   "metadata": {
    "id": "HQwYtnPrDC_Y"
   },
   "outputs": [],
   "source": [
    "#linhas 1 e 3\n",
    "dados.loc[[1,3]]"
   ]
  },
  {
   "cell_type": "code",
   "execution_count": null,
   "metadata": {
    "id": "U7PnlC849Y8b"
   },
   "outputs": [],
   "source": [
    "#filtro\n",
    "dados.loc[dados['purpose'] == \"radio/tv\"]"
   ]
  },
  {
   "cell_type": "code",
   "execution_count": null,
   "metadata": {
    "id": "_FxSXUQW4eEq"
   },
   "outputs": [],
   "source": [
    "#outra condição\n",
    "dados.loc[dados['credit_amount'] >  18000]"
   ]
  },
  {
   "cell_type": "code",
   "execution_count": null,
   "metadata": {
    "id": "AuPDpjl34pvs"
   },
   "outputs": [],
   "source": [
    "#atribuimos resultado a variável, criando outro df\n",
    "credito2 = dados.loc[dados['credit_amount'] >  18000]\n",
    "print(credito2)"
   ]
  },
  {
   "cell_type": "code",
   "execution_count": null,
   "metadata": {
    "id": "8A6mGAhM9Y_b"
   },
   "outputs": [],
   "source": [
    "#definimos só algumas colunas\n",
    "credito3 = dados[['checking_status','duration']].loc[dados['credit_amount'] >  18000]\n",
    "print(credito3)"
   ]
  },
  {
   "cell_type": "code",
   "execution_count": null,
   "metadata": {
    "id": "5j6ddo_29ZE8"
   },
   "outputs": [],
   "source": [
    "#séries, única coluna\n",
    "# pode ser criada a partir de listas, array do numpy ou coluna de data frame\n",
    "s1 = pd.Series([2,5,3,34,54,23,1,16])\n",
    "print(s1)"
   ]
  },
  {
   "cell_type": "code",
   "execution_count": null,
   "metadata": {
    "id": "BTa8lcsh59Zy"
   },
   "outputs": [],
   "source": [
    "#serie a partir de um array do numpy\n",
    "import numpy as np\n",
    "array1 = np.array([2,5,3,34,54,23,1,16])\n",
    "s2 = pd.Series(array1)\n",
    "print(s2)"
   ]
  },
  {
   "cell_type": "code",
   "execution_count": null,
   "metadata": {
    "id": "BZBumFfl9zG1"
   },
   "outputs": [],
   "source": [
    "#series a partir de um dataframe\n",
    "s3 = dados['purpose']\n",
    "print(s3)\n",
    "type(s3)"
   ]
  },
  {
   "cell_type": "code",
   "execution_count": null,
   "metadata": {
    "id": "LWTSgc8O6dUU"
   },
   "outputs": [],
   "source": [
    "#note a diferença, temos um data frame\n",
    "d4= dados[['purpose']]\n",
    "type(d4)"
   ]
  },
  {
   "cell_type": "code",
   "execution_count": null,
   "metadata": {
    "id": "jfOrPZYM9zJz"
   },
   "outputs": [],
   "source": [
    "#renomear\n",
    "dados.rename(columns={\"duration\":\"duração\",\"purpose\":\"propósito\"})"
   ]
  },
  {
   "cell_type": "code",
   "execution_count": null,
   "metadata": {
    "id": "aWOAK3Vc7Ud0"
   },
   "outputs": [],
   "source": [
    "#porém a alteração não é persistida\n",
    "dados.head(1)"
   ]
  },
  {
   "cell_type": "code",
   "execution_count": null,
   "metadata": {
    "id": "zYosuOaX7C1t"
   },
   "outputs": [],
   "source": [
    "#para persistir\n",
    "dados.rename(columns={\"duration\":\"duração\",\"purpose\":\"propósito\"},inplace=True)"
   ]
  },
  {
   "cell_type": "code",
   "execution_count": null,
   "metadata": {
    "id": "bxx_vnJV77FG"
   },
   "outputs": [],
   "source": [
    "dados.head(1)"
   ]
  },
  {
   "cell_type": "code",
   "execution_count": null,
   "metadata": {
    "id": "UU6BISHF9zMl"
   },
   "outputs": [],
   "source": [
    "#excluir coluna\n",
    "dados.drop('checking_status',axis=1,inplace=True)\n",
    "print(dados)"
   ]
  },
  {
   "cell_type": "code",
   "execution_count": null,
   "metadata": {
    "id": "4yPH--D08Ors"
   },
   "outputs": [],
   "source": [
    "dados.head(1)"
   ]
  },
  {
   "cell_type": "code",
   "execution_count": null,
   "metadata": {
    "id": "u404kOYD9zPU"
   },
   "outputs": [],
   "source": [
    "#verificar dados nulos\n",
    "dados.isnull()"
   ]
  },
  {
   "cell_type": "code",
   "execution_count": null,
   "metadata": {
    "id": "gZ3ZXl818bu9"
   },
   "outputs": [],
   "source": [
    "#verificar dados nulos\n",
    "dados.isnull().sum()"
   ]
  },
  {
   "cell_type": "code",
   "execution_count": null,
   "metadata": {
    "id": "cRf4E7VH8nGM"
   },
   "outputs": [],
   "source": [
    "#retirar colunas com NaN\n",
    "dados.dropna()"
   ]
  },
  {
   "cell_type": "code",
   "execution_count": null,
   "metadata": {
    "id": "tGnKKpLS9zSj"
   },
   "outputs": [],
   "source": [
    "#preencher dados faltantes\n",
    "dados['duração'].fillna(0,inplace = True)"
   ]
  },
  {
   "cell_type": "code",
   "execution_count": null,
   "metadata": {
    "id": "N1QVSODR9ZHz"
   },
   "outputs": [],
   "source": [
    "#iloc\n",
    "dados.iloc[0:3,0:5]"
   ]
  },
  {
   "cell_type": "code",
   "execution_count": null,
   "metadata": {
    "id": "PysAnk2_9Y5H"
   },
   "outputs": [],
   "source": [
    "dados.iloc[[0,1,2,3,7],0:5]"
   ]
  },
  {
   "cell_type": "code",
   "execution_count": null,
   "metadata": {},
   "outputs": [],
   "source": []
  }
 ],
 "metadata": {
  "colab": {
   "collapsed_sections": [],
   "name": "pandas.ipynb",
   "provenance": []
  },
  "kernelspec": {
   "display_name": "Python 3",
   "language": "python",
   "name": "python3"
  },
  "language_info": {
   "codemirror_mode": {
    "name": "ipython",
    "version": 3
   },
   "file_extension": ".py",
   "mimetype": "text/x-python",
   "name": "python",
   "nbconvert_exporter": "python",
   "pygments_lexer": "ipython3",
   "version": "3.8.8"
  }
 },
 "nbformat": 4,
 "nbformat_minor": 4
}
