{
 "cells": [
  {
   "cell_type": "markdown",
   "metadata": {
    "id": "zB7-Ba0_l9Qb"
   },
   "source": [
    "# Formação Cientista de Dados\n",
    "Prof. Fernando Amaral\n",
    "\n",
    "numpy"
   ]
  },
  {
   "cell_type": "code",
   "execution_count": null,
   "metadata": {
    "id": "OI04MPtZjwn4"
   },
   "outputs": [],
   "source": [
    "import numpy as np"
   ]
  },
  {
   "cell_type": "code",
   "execution_count": null,
   "metadata": {
    "colab": {
     "base_uri": "https://localhost:8080/"
    },
    "id": "ZhUgy5a5j7zR",
    "outputId": "bfecc80c-6149-4352-eb87-229a7d3b30d1"
   },
   "outputs": [],
   "source": [
    "# cria uma matriz unidimensional\n",
    "mt = np.array([12,34,26,18,10])\n",
    "print(mt)\n",
    "print(type(mt))"
   ]
  },
  {
   "cell_type": "code",
   "execution_count": null,
   "metadata": {
    "colab": {
     "base_uri": "https://localhost:8080/"
    },
    "id": "YL92103Mj9dS",
    "outputId": "141a6936-28ed-4570-9fe4-5c478693f7a0"
   },
   "outputs": [],
   "source": [
    "#criar o array com um tipo específico\n",
    "# cria o array como float de 64 bits\n",
    "mtfloat = np.array([1, 2, 3], dtype = np.float64)\n",
    "print(mtfloat)\n",
    "print(type(mtfloat))\n",
    "mtint = np.array([1, 2, 3], dtype = np.int32)\n",
    "print(mtint)\n",
    "print(type(mtint))"
   ]
  },
  {
   "cell_type": "code",
   "execution_count": null,
   "metadata": {
    "colab": {
     "base_uri": "https://localhost:8080/"
    },
    "id": "bZGaK3KGkQCK",
    "outputId": "5fd0e0c3-a72b-420b-840b-d14eb83065cc"
   },
   "outputs": [],
   "source": [
    "#mudar o tipo do array\n",
    "# Podemos transformar tipos de dados de arrays\n",
    "mtnew = np.array([1.4, 3.6, -5.1, 9.42, 4.999999])\n",
    "print(mtnew)\n",
    "# quando transformamos de float para int os valores são truncados\n",
    "mtnewint = mtnew.astype(np.int32)\n",
    "print(mtnewint)"
   ]
  },
  {
   "cell_type": "code",
   "execution_count": null,
   "metadata": {
    "colab": {
     "base_uri": "https://localhost:8080/"
    },
    "id": "GPkQHO_AkVf6",
    "outputId": "5b8234a0-b5d1-4111-8168-8ef63a3e99b6"
   },
   "outputs": [],
   "source": [
    "# podemos fazer o inverso também.\n",
    "mt5 = np.array([1, 2, 3, 4])\n",
    "print(mt5)\n",
    "mt6 = mt5.astype(float)\n",
    "print(mt6)"
   ]
  },
  {
   "cell_type": "code",
   "execution_count": null,
   "metadata": {
    "colab": {
     "base_uri": "https://localhost:8080/"
    },
    "id": "MKnSocy2kZ5S",
    "outputId": "1b8e72e8-24d0-498a-b141-ea520ad6afff"
   },
   "outputs": [],
   "source": [
    "# mais de uma dimensão\n",
    "# cria um matriz bidimensional\n",
    "mt7 = np.array([[7,2,23],[12,27,4],[5,34,23]])\n",
    "print(mt7)"
   ]
  },
  {
   "cell_type": "code",
   "execution_count": null,
   "metadata": {
    "colab": {
     "base_uri": "https://localhost:8080/"
    },
    "id": "nX-pK2Bikjzi",
    "outputId": "c7041699-f3b3-464c-b02e-055c0ace266b"
   },
   "outputs": [],
   "source": [
    "#criar arrays vazios tipificados\n",
    "#empty significa que não são inicializados, não que são vazios\n",
    "vazio = np.empty([3,2], dtype = int)\n",
    "print(vazio)\n",
    "print(\"-------\")\n",
    "# cria uma matriz 4x3 com valores zero\n",
    "zeros = np.zeros([4,3])\n",
    "print(zeros)\n",
    "print(\"-------\")\n",
    "#com valores igual a um\n",
    "um = np.ones([5,7])\n",
    "print(um)\n",
    "print(\"-------\")\n",
    "# cria matriz quadrada com diagonal principal com valores 1 e os outros valores zero\n",
    "diagonal = np.eye(5)\n",
    "print(diagonal)\n"
   ]
  },
  {
   "cell_type": "code",
   "execution_count": null,
   "metadata": {
    "colab": {
     "base_uri": "https://localhost:8080/"
    },
    "id": "lTw3VGFIknOZ",
    "outputId": "7cf3c959-20d5-47dd-dfea-b991d6314d48"
   },
   "outputs": [],
   "source": [
    "#valores aleatórios entre zero e um\n",
    "ale = np.random.random((5))\n",
    "print(ale)\n",
    "print(\"-------\")\n",
    "#valores aleatórios distr. normal contendo negativos\n",
    "ale2= np.random.randn((5))\n",
    "print(ale2)\n",
    "print(\"-------\")\n",
    "#valores aleatórios 3 x 4\n",
    "ale3 = (10*np.random.random((3,4)))\n",
    "print(ale3)"
   ]
  },
  {
   "cell_type": "code",
   "execution_count": null,
   "metadata": {
    "colab": {
     "base_uri": "https://localhost:8080/"
    },
    "id": "EVoyOEg1knRl",
    "outputId": "2b693841-1dde-4e53-f379-f812933bff4f"
   },
   "outputs": [],
   "source": [
    "#outra forma de gerar aleatórios\n",
    "#uso de semente\n",
    "gnr = np.random.default_rng(1)\n",
    "ale5 = gnr.random(3)\n",
    "print (ale5)\n",
    "\n",
    "#gerar inteiros\n",
    "ale6 = gnr.integers(10, size=(3, 4))\n",
    "print(ale6)"
   ]
  },
  {
   "cell_type": "code",
   "execution_count": null,
   "metadata": {
    "colab": {
     "base_uri": "https://localhost:8080/"
    },
    "id": "AQc45hmnknUQ",
    "outputId": "4e640c49-d5f4-4a7d-b928-02601cb4dbda"
   },
   "outputs": [],
   "source": [
    "#unique remove repetições\n",
    "j = np.array([11, 12, 13, 14, 15, 16, 17, 12, 13, 11, 18, 19, 20])\n",
    "j = np.unique(j)\n",
    "print(j)"
   ]
  },
  {
   "cell_type": "code",
   "execution_count": null,
   "metadata": {
    "colab": {
     "base_uri": "https://localhost:8080/"
    },
    "id": "_P2gyfhIknW3",
    "outputId": "32a3e5f8-790f-4871-ccb2-afd1b8237853"
   },
   "outputs": [],
   "source": [
    "#funções específicas\n",
    "# cria a matriz bidimensional k\n",
    "k = np.array([[17,22,43],[27,25,14],[15,24,32]])\n",
    "# Mostra a matriz k\n",
    "print(k)\n",
    "# Mostra um elemento específico da matriz k\n",
    "print(k[0][1])\n",
    "# Mostra o tamanho das dimensões da matriz k\n",
    "print(k.shape)"
   ]
  },
  {
   "cell_type": "code",
   "execution_count": null,
   "metadata": {
    "colab": {
     "base_uri": "https://localhost:8080/"
    },
    "id": "j8aXkWLTknZs",
    "outputId": "cf98845c-c800-4408-f2c3-06994cd22731"
   },
   "outputs": [],
   "source": [
    "#Funções Matemáticas\n",
    "# Mostra o maior valor da matriz k\n",
    "print(k.max())\n",
    "# Mostra o menor valor da matriz k\n",
    "print(k.min())\n",
    "# Mostra a soma dos valores da matriz k\n",
    "print((k.sum()))\n",
    "# Mostra o valor da média dos valores da matriz k\n",
    "print(k.mean())\n",
    "# Mostra o valor do desvio padrão (standard deviation) dos valores da matiz k\n",
    "print(k.std())"
   ]
  },
  {
   "cell_type": "code",
   "execution_count": null,
   "metadata": {
    "colab": {
     "base_uri": "https://localhost:8080/"
    },
    "id": "VABu58pJkncJ",
    "outputId": "d4b51209-0531-4001-9fa5-4892946695d2"
   },
   "outputs": [],
   "source": [
    "#funções universais, aplicadas a todos os elementos\n",
    "# Mostra o valor da raiz quadrada de todos elementos\n",
    "k1 = np.array([1, 4, 9, 16, 25, 36])\n",
    "print(np.sqrt(k1))\n",
    "# Mostra o valor do exponencial de todos elementos\n",
    "print(np.exp(k1))"
   ]
  },
  {
   "cell_type": "code",
   "execution_count": null,
   "metadata": {
    "colab": {
     "base_uri": "https://localhost:8080/"
    },
    "id": "1tG2157eknfR",
    "outputId": "cb644ca0-5bf1-413e-d43b-84b36ab5a9b3"
   },
   "outputs": [],
   "source": [
    "#extração de elementos\n",
    "m = np.array([1, 2, 3, 4, 5, 6])\n",
    "# Mostra o elemento da posição 2\n",
    "print(m[1])\n",
    "print(\"-------\")\n",
    "# Mostra o array criado a partir da posição 0, dois elementos\n",
    "print(m[0:2])\n",
    "print(\"-------\")\n",
    "# Mostra o array criado a partir da 2a posição\n",
    "# até todo o restante do array\n",
    "print(m[1:])\n",
    "print(\"-------\")\n",
    "# Mostra o array criado a partir da antepenúltima\n",
    "#posição até o final\n",
    "print(m[-3:])"
   ]
  },
  {
   "cell_type": "code",
   "execution_count": null,
   "metadata": {
    "colab": {
     "base_uri": "https://localhost:8080/"
    },
    "id": "ADaB3vqBlOIZ",
    "outputId": "2fb2b003-ad6d-4d38-c314-eb12b2b34caf"
   },
   "outputs": [],
   "source": [
    "#extração de linhas e colunas\n",
    "l = np.array([[4, 5], [6, 1], [7, 4]])\n",
    "print(l)\n",
    "print(\"-------\")\n",
    "#primeira linha, todas as colunas\n",
    "l_linha_1 = l[0, :]\n",
    "print(l_linha_1)\n",
    "print(\"-------\")\n",
    "#segunda linha\n",
    "l_linha_2 = l[1, :]\n",
    "print(l_linha_2)\n",
    "print(\"-------\")\n",
    "#terceira linha\n",
    "l_linha_3 = l[2, :]\n",
    "print(l_linha_3)\n",
    "print(\"-------\")\n",
    "#todas as linhas, primeira coluna\n",
    "l_coluna_1 = l[:, 0]\n",
    "print(l_coluna_1)\n",
    "print(\"-------\")\n",
    "#todas as linhas, segunda coluna\n",
    "l_coluna_2 = l[:, 1]\n",
    "print(l_coluna_2)"
   ]
  },
  {
   "cell_type": "code",
   "execution_count": null,
   "metadata": {
    "colab": {
     "base_uri": "https://localhost:8080/"
    },
    "id": "cO6JDvu7lOLp",
    "outputId": "876aa155-8ae6-42fd-c5ef-79d00a5268e7"
   },
   "outputs": [],
   "source": [
    "#adição e multiplicação de matrizes\n",
    "n = np.array([[1, 2], [3, 4]])\n",
    "o = np.array([[1, 1], [1, 1]])\n",
    "res1 = n+o\n",
    "print(res1)\n",
    "print(\"-------\")\n",
    "res2 = n*o\n",
    "print(res2)\n",
    "print(\"-------\")\n",
    "p = np.array([[1, 2], [3, 4], [5, 6]])\n",
    "q = np.array([[2, 1]])\n",
    "print(p+q)"
   ]
  },
  {
   "cell_type": "code",
   "execution_count": null,
   "metadata": {
    "colab": {
     "base_uri": "https://localhost:8080/"
    },
    "id": "urJQ-BtKlOOT",
    "outputId": "38e7443a-9b44-4ba7-b0a2-a84101aa50e3"
   },
   "outputs": [],
   "source": [
    "# transposição, rearranja um conjunto de 15 elementos de 0 a 14 \n",
    "# em 3 linhas e 5 colunas.\n",
    "f = np.arange(15).reshape((3, 5))\n",
    "# mostra a matrizes transposta entre linha e coluna\n",
    "print(f)\n",
    "print(\"-------\")\n",
    "s = f.T\n",
    "print(s)"
   ]
  },
  {
   "cell_type": "code",
   "execution_count": null,
   "metadata": {
    "colab": {
     "base_uri": "https://localhost:8080/"
    },
    "id": "6v0SlBz4lORB",
    "outputId": "00eda794-b183-40cd-e875-9c925cc734d4"
   },
   "outputs": [],
   "source": [
    "#outra forma de fazer, mesmo resultado\n",
    "r = np.arange(15).reshape((3, 5))\n",
    "print(r)\n",
    "print(\"-------\")\n",
    "# rearranja um conjunto de 15 elementos \n",
    "# mostra a matrizes transposta entre linha e coluna\n",
    "s = r.transpose((1,0))\n",
    "print(s)\n"
   ]
  },
  {
   "cell_type": "code",
   "execution_count": null,
   "metadata": {
    "colab": {
     "base_uri": "https://localhost:8080/"
    },
    "id": "6RcwvarDlv8i",
    "outputId": "c2738f2f-7c74-4d30-c88d-55bebcde48ec"
   },
   "outputs": [],
   "source": [
    "#expressões lógicas\n",
    "#usando where\n",
    "# criando matriz com valores aleatórios positivos e negativos\n",
    "v = np.random.randn(4, 4)\n",
    "print(v)\n",
    "# criando matriz com valores booleanos baseado no array v\n",
    "x = (v > 0)\n",
    "print(x)\n",
    "# criando matriz com valores -1 e 1 baseado nos valores do array x\n",
    "z = np.where(x > 0, 1, -1)\n",
    "print(z)\n"
   ]
  }
 ],
 "metadata": {
  "colab": {
   "name": "numpy.ipynb",
   "provenance": []
  },
  "kernelspec": {
   "display_name": "Python 3",
   "language": "python",
   "name": "python3"
  },
  "language_info": {
   "codemirror_mode": {
    "name": "ipython",
    "version": 3
   },
   "file_extension": ".py",
   "mimetype": "text/x-python",
   "name": "python",
   "nbconvert_exporter": "python",
   "pygments_lexer": "ipython3",
   "version": "3.8.8"
  }
 },
 "nbformat": 4,
 "nbformat_minor": 4
}
